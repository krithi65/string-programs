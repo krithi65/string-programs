{
  "nbformat": 4,
  "nbformat_minor": 0,
  "metadata": {
    "colab": {
      "name": "string.ipynb",
      "provenance": [],
      "authorship_tag": "ABX9TyP7Zsbqg+xzdl60k1gBmoUR",
      "include_colab_link": true
    },
    "kernelspec": {
      "name": "python3",
      "display_name": "Python 3"
    },
    "language_info": {
      "name": "python"
    }
  },
  "cells": [
    {
      "cell_type": "markdown",
      "metadata": {
        "id": "view-in-github",
        "colab_type": "text"
      },
      "source": [
        "<a href=\"https://colab.research.google.com/github/krithi65/string-programs/blob/main/string.ipynb\" target=\"_parent\"><img src=\"https://colab.research.google.com/assets/colab-badge.svg\" alt=\"Open In Colab\"/></a>"
      ]
    },
    {
      "cell_type": "markdown",
      "source": [
        "1.Print only consonants.\n",
        "\n",
        "Sample Input :\n",
        "I am shrey \n",
        "Sample Output :\n",
        " m shry"
      ],
      "metadata": {
        "id": "8DQHL_JinRs5"
      }
    },
    {
      "cell_type": "code",
      "execution_count": null,
      "metadata": {
        "id": "lIp6iTxNnId-"
      },
      "outputs": [],
      "source": [
        "a=input( )\n",
        "r=0\n",
        "for i in a:\n",
        "    if i not in  ('a','e','i','o','u','A','E','I','O','U'):\n",
        "        print(i,end=\"\")\n",
        "        r+=1\n",
        "if(r==0):\n",
        "        print(-1) \n",
        "        "
      ]
    },
    {
      "cell_type": "markdown",
      "source": [
        "2.Print the engine number\n",
        "\n",
        "Sample Input :\n",
        "HR05-AA-2669\n",
        "Sample Output :\n",
        "28"
      ],
      "metadata": {
        "id": "2AcakVR4nXUX"
      }
    },
    {
      "cell_type": "code",
      "source": [
        "a=input()\n",
        "sum= 0\n",
        "for x in a:\n",
        "    if x.isdigit():\n",
        "        z = int(x)\n",
        "        sum = sum + z\n",
        "print(sum)\n",
        "    "
      ],
      "metadata": {
        "id": "DC5wWoPYnK5x"
      },
      "execution_count": null,
      "outputs": []
    },
    {
      "cell_type": "markdown",
      "source": [
        "3.\n",
        "Print weight\n",
        "Sample Input :\n",
        "abc\n",
        "Sample Output :\n",
        "294"
      ],
      "metadata": {
        "id": "plMyFzpLnhdN"
      }
    },
    {
      "cell_type": "code",
      "source": [
        "text = input()\n",
        "sum=0\n",
        "for ch in text:\n",
        "    a=ord(ch)\n",
        "    sum=sum+a\n",
        "print(sum)    "
      ],
      "metadata": {
        "id": "-9Jm5E85nqoJ"
      },
      "execution_count": null,
      "outputs": []
    },
    {
      "cell_type": "markdown",
      "source": [
        "4.Alphabetically sorted set of strings\n",
        "\n",
        "Sample Input :\n",
        "3\n",
        "InfinityWar EndGame Avengers\n",
        "Sample Output :\n",
        "Avengers EndGame InfinityWar"
      ],
      "metadata": {
        "id": "jzl0mvTvnt-2"
      }
    },
    {
      "cell_type": "code",
      "source": [
        "a=input()\n",
        "companies=list(map(str,input( ).split()))\n",
        "companies.sort()\n",
        "print(*companies)"
      ],
      "metadata": {
        "id": "OTaLwFGwn1Ch"
      },
      "execution_count": null,
      "outputs": []
    },
    {
      "cell_type": "markdown",
      "source": [
        "5.Print the multiplied answer\n",
        "\n",
        "Sample Input :\n",
        "99999 99998\n",
        "Sample Output :\n",
        "9999700002"
      ],
      "metadata": {
        "id": "ydBJDE-hn4UO"
      }
    },
    {
      "cell_type": "code",
      "source": [
        "n,m=map(int,input( ).split( ))\n",
        "a=n*m\n",
        "print(a)"
      ],
      "metadata": {
        "id": "kmNedBi3n9OE"
      },
      "execution_count": null,
      "outputs": []
    },
    {
      "cell_type": "markdown",
      "source": [
        "6.Print the string from characters right to left.\n",
        "\n",
        "Sample Input :\n",
        "jennyfer\n",
        "Sample Output :\n",
        "Refynnej"
      ],
      "metadata": {
        "id": "x7EU-oFNoD1f"
      }
    },
    {
      "cell_type": "code",
      "source": [
        "a=input()\n",
        "b=a[ ::-1]\n",
        "print(b.capitalize())"
      ],
      "metadata": {
        "id": "BGGRhhJGoGCr"
      },
      "execution_count": null,
      "outputs": []
    },
    {
      "cell_type": "markdown",
      "source": [
        "7. print it without using semicolon in your program.\n",
        "Sample Testcase :\n",
        "INPUT\n",
        "hello world\n",
        "OUTPUT\n",
        "hello wor"
      ],
      "metadata": {
        "id": "80nk1I6UoIjq"
      }
    },
    {
      "cell_type": "code",
      "source": [
        "s=input( )\n",
        "print(s)"
      ],
      "metadata": {
        "id": "qcLZ5NdXoOFc"
      },
      "execution_count": null,
      "outputs": []
    },
    {
      "cell_type": "markdown",
      "source": [
        "8.Print the largest number\n",
        "\n",
        "Sample Input :\n",
        " I was born on 12 october 1998.\n",
        "Sample Output :\n",
        "1998"
      ],
      "metadata": {
        "id": "IBj8K6dboRqt"
      }
    },
    {
      "cell_type": "code",
      "source": [
        "import re\n",
        "s=input( )\n",
        "a= max(map(int,re.findall(r\"(\\d+)\", s)))\n",
        "print(a)  "
      ],
      "metadata": {
        "id": "PYsF-e5koXDH"
      },
      "execution_count": null,
      "outputs": []
    },
    {
      "cell_type": "markdown",
      "source": [
        "9.Print 1 if String is palindrome or 0 if not\n",
        "\n",
        "Sample Input :\n",
        "NITIN\n",
        "Sample Output :\n",
        "1"
      ],
      "metadata": {
        "id": "VQGuLYJ5oZgF"
      }
    },
    {
      "cell_type": "code",
      "source": [
        "string=input()\n",
        "if(string==string[::-1]):\n",
        "      print(\"1\")\n",
        "else:\n",
        "      print(\"0\")"
      ],
      "metadata": {
        "id": "g22ws6Ucodyj"
      },
      "execution_count": null,
      "outputs": []
    },
    {
      "cell_type": "markdown",
      "source": [
        "10. print it after changing the middle element to * (if the length of the string is even, change the 2 middle elements to *).\n",
        "Sample Testcase :\n",
        "INPUT\n",
        "hello\n",
        "OUTPUT\n",
        "he*lo"
      ],
      "metadata": {
        "id": "JtjRC1bNok4W"
      }
    },
    {
      "cell_type": "code",
      "source": [
        "text = input( )\n",
        "new = list(text)\n",
        "if(len(new)%2!=0 and len(new)>=2):\n",
        "   new[2] ='*'\n",
        "   print(''.join(new))\n",
        "elif(len(new)%2==0):\n",
        "    new[2]='*'\n",
        "    new[3]='*'\n",
        "    print(''.join(new))\n",
        "else:\n",
        "    new[0]='*'\n",
        "    print(''.join(new))"
      ],
      "metadata": {
        "id": "gTz2hM87ogg0"
      },
      "execution_count": null,
      "outputs": []
    },
    {
      "cell_type": "markdown",
      "source": [
        "11.A wonderful string is a string,which is made up of exactly 3 different characters.Print “Wonder” if it is wonderful and -1 if it is not\n",
        "\n",
        "Sample Input :\n",
        "aabbcc\n",
        "Sample Output :\n",
        "Wonder"
      ],
      "metadata": {
        "id": "sOKnRodyopi5"
      }
    },
    {
      "cell_type": "code",
      "source": [
        "st=input()\n",
        "temp=len(st)\n",
        "a=6\n",
        "if(temp==a):\n",
        "    print(\"Wonder\")\n",
        "else:\n",
        "    print(-1)\n",
        "\n"
      ],
      "metadata": {
        "id": "_EgJMGIio3hP"
      },
      "execution_count": null,
      "outputs": []
    },
    {
      "cell_type": "markdown",
      "source": [
        "12.. String is called true if weight of string is multiple of 8. Your task is to tell whether a string can be declared True or Not\n",
        "Sample Input :\n",
        "raja\n",
        "Sample Output :\n",
        "0"
      ],
      "metadata": {
        "id": "fUpjKi6po6QC"
      }
    },
    {
      "cell_type": "code",
      "source": [
        "a=input()\n",
        "sum=0\n",
        "for i in a:\n",
        "    a=ord(i)\n",
        "    sum=sum+a\n",
        "if sum==8:\n",
        "    print(1)\n",
        "else:\n",
        "    print(0)"
      ],
      "metadata": {
        "id": "3vplimIvpDzP"
      },
      "execution_count": null,
      "outputs": []
    },
    {
      "cell_type": "markdown",
      "source": [
        "13.delete all the repeating characters and print the result left."
      ],
      "metadata": {
        "id": "-EhOVA4LpLRz"
      }
    },
    {
      "cell_type": "code",
      "source": [
        "from collections import Counter\n",
        "\n",
        "inp =str(input())\n",
        "c = Counter(inp)\n",
        "output = ''.join(k for k, v in c.items() if v == 1)\n",
        "print(output)"
      ],
      "metadata": {
        "id": "K4DCWdAepZec"
      },
      "execution_count": null,
      "outputs": []
    },
    {
      "cell_type": "markdown",
      "source": [
        "14.find its length(including the spaces)without using any pre-defined functions.\n",
        "Sample Testcase :\n",
        "INPUT\n",
        "codekata\n",
        "OUTPUT\n",
        "8"
      ],
      "metadata": {
        "id": "oZI9zgkXpaiK"
      }
    },
    {
      "cell_type": "code",
      "source": [
        "string=input()\n",
        "count=0\n",
        "for i in string:\n",
        "      count=count+1\n",
        "print(count)"
      ],
      "metadata": {
        "id": "xFPJIXNTphJP"
      },
      "execution_count": null,
      "outputs": []
    },
    {
      "cell_type": "markdown",
      "source": [
        "15.A string is said to be beautiful whenever string is made up of only three characters. "
      ],
      "metadata": {
        "id": "0cxUawpjpk94"
      }
    },
    {
      "cell_type": "code",
      "source": [
        "s=input()\n",
        "a=\"abc\"\n",
        "b=\"ABC\"\n",
        "if (len(s)==3):\n",
        "    print(1)\n",
        "else:\n",
        "    print(0)\n",
        "    "
      ],
      "metadata": {
        "id": "rlZqTrUApt0j"
      },
      "execution_count": null,
      "outputs": []
    },
    {
      "cell_type": "markdown",
      "source": [
        "16.print 'yes' if it is a palindrome or 'no' if it is not a palindrome.\n",
        "Sample Testcase :\n",
        "INPUT\n",
        "lappal\n",
        "OUTPUT\n",
        "yes"
      ],
      "metadata": {
        "id": "Gijkz3F5pwbR"
      }
    },
    {
      "cell_type": "code",
      "source": [
        "s=input()\n",
        "if(s[ ::-1]==s):\n",
        "    print(\"yes\")\n",
        "else:\n",
        "    print(\"no\")"
      ],
      "metadata": {
        "id": "KjkcmlBGp27U"
      },
      "execution_count": null,
      "outputs": []
    },
    {
      "cell_type": "markdown",
      "source": [
        "17.print 'yes' if it has a vowel in it else print 'no'.\n",
        "Sample Testcase :\n",
        "INPUT\n",
        "codekata\n",
        "OUTPUT\n",
        "yes"
      ],
      "metadata": {
        "id": "uOa9ek6ip5aP"
      }
    },
    {
      "cell_type": "code",
      "source": [
        "def checkVowels(string):  #use-defined function\n",
        "    for char in string:\n",
        "      if char in 'aeiouAEIOU':\n",
        "         return True\n",
        "    return False\n",
        "string = input( )\n",
        "\n",
        "# calling function\n",
        "if (checkVowels(string) == True):\n",
        "   print('yes')\n",
        "else:\n",
        "   print('no')"
      ],
      "metadata": {
        "id": "28NT6zi2p-XC"
      },
      "execution_count": null,
      "outputs": []
    },
    {
      "cell_type": "markdown",
      "source": [
        "18.Print YES, if a mirror pair exists, print NO otherwise.\n",
        "\n",
        "Sample Input :\n",
        "3\n",
        "raja kili\n",
        "pan quil\n",
        "kili raja\n",
        "Sample Output :\n",
        "YES"
      ],
      "metadata": {
        "id": "PgirpDsUqA1s"
      }
    },
    {
      "cell_type": "code",
      "source": [
        "n=int(input())\n",
        "a=[]\n",
        "b=[]\n",
        "for i in range(n):\n",
        " (x,y)=map(str,input().split())\n",
        " a.append(x)\n",
        " b.append(y)\n",
        "if a[0]==b[n-1] and b[0]==a[n-1]:\n",
        "    print(\"YES\")\n",
        "else:\n",
        "    print(\"NO\")"
      ],
      "metadata": {
        "id": "H5orNiZnqIme"
      },
      "execution_count": null,
      "outputs": []
    },
    {
      "cell_type": "markdown",
      "source": [
        "19.Print the string according to given criteria\n",
        "\n",
        "Sample Input :\n",
        "abcd efgh ijkl\n",
        "Sample Output :\n",
        "ABCD efgh IJKL"
      ],
      "metadata": {
        "id": "X22P4D3sqKu_"
      }
    },
    {
      "cell_type": "code",
      "source": [
        "test= input().split()\n",
        "a=[]\n",
        "for idx in range(len(test)):\n",
        "    if  idx % 2==0 :\n",
        "       l1=test[idx].upper()\n",
        "       a.append(l1)\n",
        "    else:\n",
        "       l2=test[idx]\n",
        "       a.append(l2)\n",
        "print(*a)"
      ],
      "metadata": {
        "id": "-bLDtC35qQ8R"
      },
      "execution_count": null,
      "outputs": []
    },
    {
      "cell_type": "markdown",
      "source": [
        "20.Print only duplicate character and -1 if no character is duplicate.\n",
        "\n",
        "Sample Input :\n",
        "abcddee\n",
        "Sample Output :\n",
        "d e"
      ],
      "metadata": {
        "id": "LShMjsp2qUUu"
      }
    },
    {
      "cell_type": "code",
      "source": [
        "string = input()\n",
        "elements = []\n",
        "for char in string:\n",
        "    if string.count(char) > 1:\n",
        "       if char not in elements:\n",
        "           elements.append(char)\n",
        "      \n",
        "\n",
        "if len(elements) == 0:\n",
        "    print(-1)\n",
        "else:\n",
        "    print(*elements)    "
      ],
      "metadata": {
        "id": "XfY5FfnpqVLL"
      },
      "execution_count": null,
      "outputs": []
    },
    {
      "cell_type": "markdown",
      "source": [
        "21.Print 1 for balanced and 0 for imbalanced\n",
        "\n",
        "Sample Input :\n",
        "{({})}\n",
        "Sample Output :\n",
        "1"
      ],
      "metadata": {
        "id": "lMQXwSATqlBt"
      }
    },
    {
      "cell_type": "code",
      "source": [
        "open_list = [\"[\",\"{\",\"(\"]\n",
        "close_list = [\"]\",\"}\",\")\"]\n",
        "  \n",
        "# Function to check parentheses\n",
        "def check(myStr):\n",
        "    stack = []\n",
        "    for i in myStr:\n",
        "        if i in open_list:\n",
        "            stack.append(i)\n",
        "        elif i in close_list:\n",
        "            pos = close_list.index(i)\n",
        "            if ((len(stack) > 0) and\n",
        "                (open_list[pos] == stack[len(stack)-1])):\n",
        "                stack.pop()\n",
        "            else:\n",
        "                return 0\n",
        "    if len(stack) == 0:\n",
        "        return 1\n",
        "    else:\n",
        "        return 0\n",
        "  \n",
        "  \n",
        "# Driver code\n",
        "string = input()\n",
        "print( check(string))\n",
        "  "
      ],
      "metadata": {
        "id": "vxq-VdJwqtoq"
      },
      "execution_count": null,
      "outputs": []
    },
    {
      "cell_type": "markdown",
      "source": [
        "22.Print the grey code sequence"
      ],
      "metadata": {
        "id": "DFlOC9HEqxO7"
      }
    },
    {
      "cell_type": "code",
      "source": [
        "\n",
        "def generateGray(n):\n",
        "\t\n",
        "\t# Base case\n",
        "\tif (n <= 0):\n",
        "\t\treturn [\"0\"]\n",
        "\tif (n == 1):\n",
        "\t\treturn [ \"0\", \"1\" ]\n",
        "\n",
        "\t# Recursive case\n",
        "\trecAns = generateGray(n - 1)\n",
        "\n",
        "\tmainAns = []\n",
        "\t\n",
        "\t# Append 0 to the first half\n",
        "\tfor i in range(len(recAns)):\n",
        "\t\ts = recAns[i]\n",
        "\t\tmainAns.append(\"0\" + s)\n",
        "\n",
        "\t# Append 1 to the second half\n",
        "\tfor i in range(len(recAns) - 1, -1, -1):\n",
        "\t\ts = recAns[i]\n",
        "\t\tmainAns.append(\"1\" + s)\n",
        "\n",
        "\treturn mainAns\n",
        "\n",
        "# Function to generate the\n",
        "# Gray code of N bits\n",
        "def generateGrayarr(n):\n",
        "\t\n",
        "\tarr = generateGray(n)\n",
        "\n",
        "\t# Print contents of arr\n",
        "\tprint(*arr)\n",
        "\n",
        "# Driver Code\n",
        "n=int(input())\n",
        "generateGrayarr(n)\n"
      ],
      "metadata": {
        "id": "cZ32C16Tq85F"
      },
      "execution_count": null,
      "outputs": []
    },
    {
      "cell_type": "markdown",
      "source": [
        "23.Print the characters present once and -1 if there is no character which satisfy above condition\n",
        "\n",
        "Sample Input :\n",
        "dabbc\n",
        "Sample Output :\n",
        "d a c"
      ],
      "metadata": {
        "id": "VundOpfErAdt"
      }
    },
    {
      "cell_type": "code",
      "source": [
        "from collections import Counter\n",
        "\n",
        "inp =str(input())\n",
        "c = Counter(inp)\n",
        "output = ''.join(k for k, v in c.items() if v == 1)\n",
        "print(\" \".join(output))"
      ],
      "metadata": {
        "id": "JOqQVMScrFhi"
      },
      "execution_count": null,
      "outputs": []
    },
    {
      "cell_type": "markdown",
      "source": [
        "24.Print the string in sorted order\n",
        "\n",
        "Sample Input :\n",
        "virat kohli\n",
        "Sample Output :\n",
        "kohli virat"
      ],
      "metadata": {
        "id": "yPr-jDjprISb"
      }
    },
    {
      "cell_type": "code",
      "source": [
        "a = input().split()\n",
        "x = sorted(a)\n",
        "print(*x)"
      ],
      "metadata": {
        "id": "G5uPOUturOtD"
      },
      "execution_count": null,
      "outputs": []
    },
    {
      "cell_type": "markdown",
      "source": [
        "25. find how many times S occurs in the given sentence.If S is not found in the sentence print -1"
      ],
      "metadata": {
        "id": "Roir9CzxrRV6"
      }
    },
    {
      "cell_type": "code",
      "source": [
        "s = input()\n",
        "ch = input()\n",
        "if ch in s:\n",
        "    print(1)\n",
        "else:\n",
        "    print(-1)"
      ],
      "metadata": {
        "id": "L71FKNHBrXlx"
      },
      "execution_count": null,
      "outputs": []
    },
    {
      "cell_type": "markdown",
      "source": [
        ""
      ],
      "metadata": {
        "id": "0vql1BHhraaD"
      }
    }
  ]
}