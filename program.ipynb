{
  "nbformat": 4,
  "nbformat_minor": 0,
  "metadata": {
    "colab": {
      "name": "program.ipynb",
      "provenance": [],
      "authorship_tag": "ABX9TyPNkCpYwLie3zMl3z0+qbpd",
      "include_colab_link": true
    },
    "kernelspec": {
      "name": "python3",
      "display_name": "Python 3"
    },
    "language_info": {
      "name": "python"
    }
  },
  "cells": [
    {
      "cell_type": "markdown",
      "metadata": {
        "id": "view-in-github",
        "colab_type": "text"
      },
      "source": [
        "<a href=\"https://colab.research.google.com/github/krithi65/string-programs/blob/main/program.ipynb\" target=\"_parent\"><img src=\"https://colab.research.google.com/assets/colab-badge.svg\" alt=\"Open In Colab\"/></a>"
      ]
    },
    {
      "cell_type": "markdown",
      "source": [
        "26.print 'yes' if it is a numeric otherwise print 'no'.\n",
        "Sample Testcase :\n",
        "INPUT\n",
        "guvigeeks\n",
        "OUTPUT\n",
        "no"
      ],
      "metadata": {
        "id": "o-VZn5aqA65K"
      }
    },
    {
      "cell_type": "code",
      "source": [
        "n=input()\n",
        "if(n.isnumeric()==False):\n",
        "    print(\"no\")\n",
        "else:\n",
        "    print(\"yes\")"
      ],
      "metadata": {
        "id": "0vWx7nLjA9J-"
      },
      "execution_count": null,
      "outputs": []
    },
    {
      "cell_type": "markdown",
      "source": [
        "27.print 'yes' if it is a holiday otherwise print'no'.Assume that weekend days are holidays\n",
        "Sample Testcase :\n",
        "INPUT\n",
        "saturday\n",
        "OUTPUT\n",
        "yes\n",
        "INPUT\n",
        "monday\n",
        "OUTPUT\n",
        "no"
      ],
      "metadata": {
        "id": "KvIrWjDsA_bH"
      }
    },
    {
      "cell_type": "code",
      "source": [
        "day=input()\n",
        "if(\"monday\" in day):\n",
        "    print(\"no\")\n",
        "elif(\"tuesday\" in day):\n",
        "   print(\"no\") \n",
        "elif(\"wednesday\" in day):\n",
        "    print(\"no\")    \n",
        "elif(\"thursday\" in day): \n",
        "    print(\"no\")\n",
        "elif(\"friday\" in day):\n",
        "    print(\"no\")   \n",
        "else:\n",
        "    print(\"yes\")\n"
      ],
      "metadata": {
        "id": "IQIy_NBkBEep"
      },
      "execution_count": null,
      "outputs": []
    },
    {
      "cell_type": "markdown",
      "source": [
        "28.whether string is beautiful or not.A beautiful string is a string in which String starts with ‘a’ or ‘A’ and middle element is either ‘m’ or ‘M’ and last element is ‘z’or ‘Z’"
      ],
      "metadata": {
        "id": "n-0wwv7bBHYZ"
      }
    },
    {
      "cell_type": "code",
      "source": [
        "day=input()\n",
        "if(len(day)==3):\n",
        "   if(\"A\" in day)or(\"a\" in day):\n",
        "    print(1)\n",
        "   elif(\"m\" in day)or (\"M\" in day): \n",
        "    print(1)\n",
        "   elif(\"z\" in day)or (\"Z\" in day): \n",
        "    print(1)\n",
        "else:\n",
        "    print(0)"
      ],
      "metadata": {
        "id": "dDisHTRiBQRA"
      },
      "execution_count": null,
      "outputs": []
    },
    {
      "cell_type": "markdown",
      "source": [
        "29. whether they have any common characters.If found print 'yes' else print 'no'.\n",
        "Input Size : |s| <= 100000(O(n))\n",
        "Sample Testcase :\n",
        "INPUT\n",
        "guvi guvigeeks\n",
        "OUTPUT\n",
        "yes"
      ],
      "metadata": {
        "id": "wfjYa2C7BSoX"
      }
    },
    {
      "cell_type": "code",
      "source": [
        "str1,str2=map(str,input().split())\n",
        "if (str1 in str2):\n",
        "    print(\"yes\")\n",
        "elif(str2 in str1):\n",
        "    print(\"yes\")\n",
        "else:\n",
        "    print(\"no\")"
      ],
      "metadata": {
        "id": "iuahsuyvBZnr"
      },
      "execution_count": null,
      "outputs": []
    },
    {
      "cell_type": "markdown",
      "source": [
        "30. print the 1st and 3rd character of the string (chracter index starts from 1).\n",
        "Input Size : 1 <= N <= 100000\n",
        "Sample Testcase :\n",
        "INPUT\n",
        "codekata\n",
        "OUTPUT\n",
        "cd"
      ],
      "metadata": {
        "id": "YmlHVC8NBcVc"
      }
    },
    {
      "cell_type": "code",
      "source": [
        "str1=input()\n",
        "a=list(str1)\n",
        "b=a[0]\n",
        "c=a[2]\n",
        "print(b,c,sep=\"\")"
      ],
      "metadata": {
        "id": "4KjwaZoDBjaV"
      },
      "execution_count": null,
      "outputs": []
    },
    {
      "cell_type": "markdown",
      "source": [
        "31.If no extra space is present print the same as output."
      ],
      "metadata": {
        "id": "KA3Fwhk0BmKr"
      }
    },
    {
      "cell_type": "code",
      "source": [
        "test_str = input()\n",
        "# using split() + join()\n",
        "# remove additional space from string \n",
        "res = \" \".join(test_str.split())\n",
        "print(str(res))\n"
      ],
      "metadata": {
        "id": "yuYBq4e_Bt44"
      },
      "execution_count": null,
      "outputs": []
    },
    {
      "cell_type": "markdown",
      "source": [
        "32. find the number of strings that are an anagram of 'kabali'.If there exists no anagram for the given string print '0'.\n",
        "Input Size : 1 <= N <= 1000\n",
        "Sample Testcase :\n",
        "INPUT\n",
        "5\n",
        "kabali\n",
        "kaabli\n",
        "kababa\n",
        "kab\n",
        "kabail\n",
        "OUTPUT\n",
        "3"
      ],
      "metadata": {
        "id": "hJCEZ-liBwXh"
      }
    },
    {
      "cell_type": "code",
      "source": [
        "\n",
        "n = int(input())\n",
        "l = []\n",
        "for i in range(n):\n",
        "    l.append(str(input()))\n",
        "ref = 'kabali'\n",
        "count = 0\n",
        "for i in l:\n",
        "    flag = True\n",
        "    for j in i:\n",
        "        if i.count(j) != ref.count(j):\n",
        "            flag = False\n",
        "            break\n",
        "    if flag:\n",
        "        count+=1\n",
        "print(count)"
      ],
      "metadata": {
        "id": "lxrQlUroBl0i"
      },
      "execution_count": null,
      "outputs": []
    },
    {
      "cell_type": "markdown",
      "source": [
        "33.whether these form pair of (strset) A pair of strings is said to be str set if one string is substring of other."
      ],
      "metadata": {
        "id": "FAa8-gjtCaqS"
      }
    },
    {
      "cell_type": "code",
      "source": [
        "str1,str2=map(str,input().split())\n",
        "if str2 in str1:\n",
        "   print(\"Yes\")   \n",
        "else:\n",
        "   print(\"No\")    "
      ],
      "metadata": {
        "id": "nFq_cDXjCjJm"
      },
      "execution_count": null,
      "outputs": []
    },
    {
      "cell_type": "markdown",
      "source": [
        "34. reverse the given string by appending each character of the string with '-'.\n",
        "Input Size : |S| <= 100000\n",
        "Sample Testcase :\n",
        "INPUT\n",
        "codekata\n",
        "OUTPUT\n",
        "a-t-a-k-e-d-o-c"
      ],
      "metadata": {
        "id": "L0c-HFzdCljc"
      }
    },
    {
      "cell_type": "code",
      "source": [
        "n=input()\n",
        "a=n[::-1]\n",
        "print(\"-\".join(a))"
      ],
      "metadata": {
        "id": "AVMQsfLqCs79"
      },
      "execution_count": null,
      "outputs": []
    },
    {
      "cell_type": "markdown",
      "source": [
        "35.Find if he can visit point m.\n",
        "Sample Testcase :\n",
        "INPUT\n",
        "3 5\n",
        "0 2\n",
        "2 4\n",
        "3 5\n",
        "OUTPUT\n",
        "yes"
      ],
      "metadata": {
        "id": "HIRTzaplCvnu"
      }
    },
    {
      "cell_type": "code",
      "source": [
        "a1,n=map(int,input().split())\n",
        "a2,b2=map(int,input().split())\n",
        "a3,b3=map(int,input().split())\n",
        "a4,m=map(int,input().split())\n",
        "if(n==m):\n",
        "    print(\"yes\")\n",
        "else:\n",
        "    print(\"no\")"
      ],
      "metadata": {
        "id": "ZsCd51zbC4Sl"
      },
      "execution_count": null,
      "outputs": []
    },
    {
      "cell_type": "markdown",
      "source": [
        "36. remove all the spaces and print the result.\n",
        "Input Size : |s| <= 1000000(complexity O(n))\n",
        "Sample Testcase :\n",
        "INPUT\n",
        "guvi geeks\n",
        "OUTPUT\n",
        "guvigeeks"
      ],
      "metadata": {
        "id": "ycZR7mPUC7pg"
      }
    },
    {
      "cell_type": "code",
      "source": [
        "n=input().split()\n",
        "print(\"\".join(n))"
      ],
      "metadata": {
        "id": "koUUgtdJC7O7"
      },
      "execution_count": null,
      "outputs": []
    },
    {
      "cell_type": "markdown",
      "source": [
        "37. check whether they are case senitively equal without using any predefined function(case sensitive).If they are not same print 'no'\n",
        "Sample Testcase :\n",
        "INPUT\n",
        "guvi guvi\n",
        "OUTPUT\n",
        "yes"
      ],
      "metadata": {
        "id": "IWuegJHqDUzu"
      }
    },
    {
      "cell_type": "code",
      "source": [
        "n,m=map(str,input().split())\n",
        "if(n==m):\n",
        "    print(\"yes\")\n",
        "else:\n",
        "    print(\"no\")"
      ],
      "metadata": {
        "id": "N-1HPJ4CDajl"
      },
      "execution_count": null,
      "outputs": []
    },
    {
      "cell_type": "markdown",
      "source": [
        "38.find the number of ones in its binary representation.\n",
        "Sample Testcase :\n",
        "INPUT\n",
        "276\n",
        "OUTPUT\n",
        "3"
      ],
      "metadata": {
        "id": "kuqQS0wYC6oI"
      }
    },
    {
      "cell_type": "code",
      "source": [
        "n=int(input())\n",
        "binary=bin(n)\n",
        "print(binary.count('1'))\n"
      ],
      "metadata": {
        "id": "Pr01A3bIDkjt"
      },
      "execution_count": null,
      "outputs": []
    },
    {
      "cell_type": "markdown",
      "source": [
        "39. find if any K consecutive strings are same.\n",
        "Input Size : K <= N <= 1000\n",
        "Sample Testcase :\n",
        "INPUT\n",
        "5 3\n",
        "code\n",
        "overload\n",
        "vishal\n",
        "vishal\n",
        "vishal\n",
        "OUTPUT\n",
        "yes"
      ],
      "metadata": {
        "id": "7uyeTWNkDnKL"
      }
    },
    {
      "cell_type": "code",
      "source": [
        "n,blen=map(int,input().split())\n",
        "a = []\n",
        "for i in range(n):\n",
        "    a.append(str(input()))\n",
        "#print(a)\n",
        "flag = False\n",
        "for i in range(n-1):\n",
        "        if a[i] == a[i+1]:\n",
        "            flag = True\n",
        "if flag:\n",
        "    print(\"yes\")\n",
        "else:\n",
        "    print(\"no\")"
      ],
      "metadata": {
        "id": "SETX8wPPDsvY"
      },
      "execution_count": null,
      "outputs": []
    },
    {
      "cell_type": "markdown",
      "source": [
        "40.Print the position of first 1 from right to left, in binary representation of an Integer.\n",
        "Sample Testcase :\n",
        "INPUT\n",
        "18\n",
        "OUTPUT\n",
        "2"
      ],
      "metadata": {
        "id": "UfUwaD1BDvVl"
      }
    },
    {
      "cell_type": "code",
      "source": [
        "import math\n",
        "n=int(input())\n",
        "res=math.log2(n&-n)+1\n",
        "print(round(res))"
      ],
      "metadata": {
        "id": "OYMnznSvD08B"
      },
      "execution_count": null,
      "outputs": []
    },
    {
      "cell_type": "markdown",
      "source": [
        "41.find if two consecutive words are same."
      ],
      "metadata": {
        "id": "mhhY9rOJD3Vv"
      }
    },
    {
      "cell_type": "code",
      "source": [
        "n=int(input())\n",
        "a = []\n",
        "for i in range(n):\n",
        "    a.append(str(input()))\n",
        "#print(a)\n",
        "flag = False\n",
        "for i in range(n-1):\n",
        "        if a[i] == a[i+1]:\n",
        "            flag = True\n",
        "if flag:\n",
        "    print(\"yes\")\n",
        "else:\n",
        "    print(\"no\")"
      ],
      "metadata": {
        "id": "MQg6nUhMD-Tw"
      },
      "execution_count": null,
      "outputs": []
    },
    {
      "cell_type": "markdown",
      "source": [
        "42.Given a string 'S' swap the even and odd characters starting from index 1(Assume the index starts from 0).\n",
        "Input Size : |s| <= 10000000(complexity O(n))\n",
        "Sample Testcase :\n",
        "INPUT\n",
        "codekata\n",
        "OUTPUT\n",
        "ocedakat"
      ],
      "metadata": {
        "id": "PbhDdL0uECnl"
      }
    },
    {
      "cell_type": "code",
      "source": [
        "data = input( )\n",
        "s=list(data)\n",
        "i = 0\n",
        "while i < s.__len__()-1:\n",
        "    t = s[i]\n",
        "    s[i] = s[i + 1]\n",
        "    s[i + 1] = t\n",
        "    i = i + 2\n",
        "data=s    \n",
        "print(\"\".join(data))\n",
        "  "
      ],
      "metadata": {
        "id": "mHEbljAuEK7C"
      },
      "execution_count": null,
      "outputs": []
    },
    {
      "cell_type": "markdown",
      "source": [
        "43.print the reverse of the string."
      ],
      "metadata": {
        "id": "BDBd8FQmEU-C"
      }
    },
    {
      "cell_type": "code",
      "source": [
        "s=input()\n",
        "print(s[::-1])\n",
        "    "
      ],
      "metadata": {
        "id": "-7vL7TZYEeg8"
      },
      "execution_count": null,
      "outputs": []
    },
    {
      "cell_type": "markdown",
      "source": [
        "44.Print 'yes' if there exists a valid substring otherwise print 'no'."
      ],
      "metadata": {
        "id": "J6kpB8JwEg19"
      }
    },
    {
      "cell_type": "code",
      "source": [
        "s,x=map(str,input().split())\n",
        "if(x in s):\n",
        "    print(\"yes\")\n",
        "else:\n",
        "    print(\"no\")"
      ],
      "metadata": {
        "id": "xiM-ZWBsEmTD"
      },
      "execution_count": null,
      "outputs": []
    },
    {
      "cell_type": "markdown",
      "source": [
        "45.Given a sentence interchange the between the word 'and'.\n",
        "Input Size : |S| <= 1000000\n",
        "Sample Testcase :\n",
        "INPUT\n",
        "jack and jill went up and down to get water\n",
        "OUTPUT\n",
        "jill and jack went down and up to get water"
      ],
      "metadata": {
        "id": "KRTVyiiCEpIX"
      }
    },
    {
      "cell_type": "code",
      "source": [
        "l = input().split(\" \")\n",
        "a=[]\n",
        "for i in range(len(l)):\n",
        "    if l[i] == \"and\":\n",
        "        (l[i+1], l[i-1]) = (l[i-1], l[i+1])\n",
        "for i in l:\n",
        "    a.append(i)\n",
        "print(*a)"
      ],
      "metadata": {
        "id": "2FheHupTE9QY"
      },
      "execution_count": null,
      "outputs": []
    },
    {
      "cell_type": "markdown",
      "source": [
        "46.find if it can be a valid Hexadecimal representation of a number"
      ],
      "metadata": {
        "id": "K-WzpGiNFCyr"
      }
    },
    {
      "cell_type": "code",
      "source": [
        "user_input = input()\n",
        "try:\n",
        "    hexval = int(user_input, 16)\n",
        "    print ('yes')\n",
        "except:\n",
        "    print ('no')"
      ],
      "metadata": {
        "id": "7w4qO_svFKFO"
      },
      "execution_count": null,
      "outputs": []
    },
    {
      "cell_type": "markdown",
      "source": [
        "47.find if P is a substring of S. Print 'yes' if it is a substring else 'no'."
      ],
      "metadata": {
        "id": "7KvGlvOvFMiB"
      }
    },
    {
      "cell_type": "code",
      "source": [
        "s,x=map(str,input().split())\n",
        "if(x in s):\n",
        "    print(\"yes\")\n",
        "else:\n",
        "    print(\"no\")"
      ],
      "metadata": {
        "id": "vKFCNmwZFVFZ"
      },
      "execution_count": null,
      "outputs": []
    },
    {
      "cell_type": "markdown",
      "source": [
        "48. reverse the case of each letter."
      ],
      "metadata": {
        "id": "en9BdupAFXUa"
      }
    },
    {
      "cell_type": "code",
      "source": [
        "s = str(input())\n",
        "a=[]\n",
        "for i in s:\n",
        "    if i.isupper():\n",
        "        l1=i.lower()\n",
        "        a.append(l1)\n",
        "    else:\n",
        "        l2=i.upper()        \n",
        "        a.append(l2)\n",
        "print(\"\".join(a))"
      ],
      "metadata": {
        "id": "QKUz6hHrFdIe"
      },
      "execution_count": null,
      "outputs": []
    },
    {
      "cell_type": "markdown",
      "source": [
        "49.print reverse all words except the first and last words."
      ],
      "metadata": {
        "id": "zWF4u5ojFfz4"
      }
    },
    {
      "cell_type": "code",
      "source": [
        "s = input().split(\" \")\n",
        "a=[]\n",
        "for i in range(len(s)):\n",
        "    if i == 0:\n",
        "        l1=s[i]\n",
        "        a.append(l1)\n",
        "    elif i == (len(s)-1):\n",
        "        l2=s[i]\n",
        "        a.append(l2)\n",
        "    else:\n",
        "        l3=s[i][::-1]\n",
        "        a.append(l3)\n",
        "print(*a)        "
      ],
      "metadata": {
        "id": "6mz7KsfcFpNN"
      },
      "execution_count": null,
      "outputs": []
    },
    {
      "cell_type": "markdown",
      "source": [
        "50.Find the maximum number that can be formed using the digits."
      ],
      "metadata": {
        "id": "mwMm-C1vFs9Y"
      }
    },
    {
      "cell_type": "code",
      "source": [
        "# vowels list\n",
        "n=input()\n",
        "values=list(n)\n",
        "# sort the vowels\n",
        "values.sort(reverse=True)\n",
        "\n",
        "# print vowels\n",
        "new_s = \"\".join(values)\n",
        "print(new_s)"
      ],
      "metadata": {
        "id": "l8woqMlTFzkv"
      },
      "execution_count": null,
      "outputs": []
    }
  ]
}