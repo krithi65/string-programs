{
  "nbformat": 4,
  "nbformat_minor": 0,
  "metadata": {
    "colab": {
      "name": "programs1.ipynb",
      "provenance": [],
      "authorship_tag": "ABX9TyPxim1hYOCTQXXXFWGBU7sS",
      "include_colab_link": true
    },
    "kernelspec": {
      "name": "python3",
      "display_name": "Python 3"
    },
    "language_info": {
      "name": "python"
    }
  },
  "cells": [
    {
      "cell_type": "markdown",
      "metadata": {
        "id": "view-in-github",
        "colab_type": "text"
      },
      "source": [
        "<a href=\"https://colab.research.google.com/github/krithi65/string-programs/blob/main/programs1.ipynb\" target=\"_parent\"><img src=\"https://colab.research.google.com/assets/colab-badge.svg\" alt=\"Open In Colab\"/></a>"
      ]
    },
    {
      "cell_type": "markdown",
      "source": [
        "71.Print the GCD of A! and B!."
      ],
      "metadata": {
        "id": "lf9QWwUaOOg6"
      }
    },
    {
      "cell_type": "code",
      "source": [
        "import math \n",
        "  \n",
        "def gcdOfFactorial(m, n) : \n",
        "    return math.factorial(min(m, n)) \n",
        "  \n",
        "# Driver code \n",
        "m,n = map(int,input().split())\n",
        "print(gcdOfFactorial(m, n))"
      ],
      "metadata": {
        "id": "S6-OhVZSOWIV"
      },
      "execution_count": null,
      "outputs": []
    },
    {
      "cell_type": "markdown",
      "source": [
        "72.write a program that would reverse every word in the string."
      ],
      "metadata": {
        "id": "xvfuZcIXOYYE"
      }
    },
    {
      "cell_type": "code",
      "source": [
        "w=input().split(\" \")# get input seperated by space\n",
        "nw=[i[::-1]for i in w]#reverse every word and store in list\n",
        "ns=\" \".join(nw)#the new sentence is joined with regarding space\n",
        "print(ns)"
      ],
      "metadata": {
        "id": "GpIHgSHvOdnM"
      },
      "execution_count": null,
      "outputs": []
    },
    {
      "cell_type": "markdown",
      "source": [
        "73. print the first N Catalan numbers.\n",
        "Input Size : N <= 100"
      ],
      "metadata": {
        "id": "F5rjAvhVOgXy"
      }
    },
    {
      "cell_type": "code",
      "source": [
        "def catalan(n):  \n",
        "    if n <=1 : \n",
        "        return 1 \n",
        "    res = 0 \n",
        "    for i in range(n): \n",
        "        res += catalan(i) * catalan(n-i-1) \n",
        "    return res\n",
        "n = int(input())\n",
        "a = []\n",
        "for i in range(n+1):\n",
        "    a.append(catalan(i))\n",
        "print(*a)"
      ],
      "metadata": {
        "id": "gcGul0Y1Oppb"
      },
      "execution_count": null,
      "outputs": []
    },
    {
      "cell_type": "markdown",
      "source": [
        "74.Find the largest number which can be formed from the given numbers and print it."
      ],
      "metadata": {
        "id": "DqB_lH54OuTm"
      }
    },
    {
      "cell_type": "code",
      "source": [
        "n=int(input())\n",
        "arr=list(map(int,input().split()))\n",
        "arr.sort(reverse=True)\n",
        "num=arr[0]\n",
        "for i in range(1,n):\n",
        "    num=num*10+arr[i]\n",
        "print(num)    "
      ],
      "metadata": {
        "id": "Y0LYUZYSO2Ed"
      },
      "execution_count": null,
      "outputs": []
    },
    {
      "cell_type": "markdown",
      "source": [
        "75.reverse the words at odd positions."
      ],
      "metadata": {
        "id": "n7fhpuV5O4oU"
      }
    },
    {
      "cell_type": "code",
      "source": [
        "n=input().split()\n",
        "l=[]\n",
        "for i in range(1,len(n)+1):\n",
        "    if(i%2==1):\n",
        "        l.append(n[i-1][::-1])\n",
        "    else:\n",
        "        l.append(n[i-1])\n",
        "print(*l)        "
      ],
      "metadata": {
        "id": "w4lZO02gPF-4"
      },
      "execution_count": null,
      "outputs": []
    },
    {
      "cell_type": "markdown",
      "source": [
        "76.find the length of the largest alternating 'ab' subarray."
      ],
      "metadata": {
        "id": "z7bTUB3OPIKy"
      }
    },
    {
      "cell_type": "code",
      "source": [
        "n=input()\n",
        "string=\"ab\"\n",
        "count=n.count(string)\n",
        "print(count)"
      ],
      "metadata": {
        "id": "qHca4_M-PO58"
      },
      "execution_count": null,
      "outputs": []
    },
    {
      "cell_type": "markdown",
      "source": [
        "77.Two strings are said to have same base alphabets if they use the same characters to form the word."
      ],
      "metadata": {
        "id": "pGFapT9LPRZ5"
      }
    },
    {
      "cell_type": "code",
      "source": [
        "\n",
        "(s1, s2) = map(str, input().split(\" \"))\n",
        "a = []\n",
        "for i in range(len(s1)):\n",
        "    a.append(s1[i])\n",
        "for i in range(len(s2)):\n",
        "    if s2[i] not in a:\n",
        "        flag = False\n",
        "        break\n",
        "    else:\n",
        "        flag = True\n",
        "if flag:\n",
        "    print(\"true\")\n",
        "else:\n",
        "    print(\"false\")"
      ],
      "metadata": {
        "id": "IY6gA1xoPZoH"
      },
      "execution_count": null,
      "outputs": []
    },
    {
      "cell_type": "markdown",
      "source": [
        "78.reverse every word in place."
      ],
      "metadata": {
        "id": "ucaMEN4oPco6"
      }
    },
    {
      "cell_type": "code",
      "source": [
        "w=input().split(\" \")\n",
        "nw=[i[::-1]for i in w]\n",
        "ns=\" \".join(nw)\n",
        "print(ns)"
      ],
      "metadata": {
        "id": "jE5TBVzCPhth"
      },
      "execution_count": null,
      "outputs": []
    },
    {
      "cell_type": "markdown",
      "source": [
        "79. return multiplication of the numbers as a string."
      ],
      "metadata": {
        "id": "NHDMyrGoPke7"
      }
    },
    {
      "cell_type": "code",
      "source": [
        "str1,str2=map(str,input().split())\n",
        "a=int(str1)\n",
        "b=int(str2)\n",
        "c=a*b\n",
        "print(str(c))"
      ],
      "metadata": {
        "id": "g0UUgGavPqJ1"
      },
      "execution_count": null,
      "outputs": []
    },
    {
      "cell_type": "markdown",
      "source": [
        "80. Find if String2 is substring of String1."
      ],
      "metadata": {
        "id": "eGcxZvp9PtRH"
      }
    },
    {
      "cell_type": "code",
      "source": [
        "str1=input()\n",
        "str2=input()\n",
        "if str2 in str1:\n",
        "    index=str1.find(str2)\n",
        "    print(index)\n",
        "else:\n",
        "    print(-1)"
      ],
      "metadata": {
        "id": "6ruBZgDbP0C5"
      },
      "execution_count": null,
      "outputs": []
    },
    {
      "cell_type": "markdown",
      "source": [
        "81.chech whether it is a camelcase"
      ],
      "metadata": {
        "id": "0ryu27XdP3GR"
      }
    },
    {
      "cell_type": "code",
      "source": [
        "s=input()\n",
        "if (s!=s.upper() and s!=s.lower()):\n",
        "   print(\"yes\")\n",
        "else:\n",
        "    print(\"no\")"
      ],
      "metadata": {
        "id": "S0D-5fFPP_Sc"
      },
      "execution_count": null,
      "outputs": []
    },
    {
      "cell_type": "markdown",
      "source": [
        "82.check whether string is of A,AB,AAB"
      ],
      "metadata": {
        "id": "8_psosPlQCmf"
      }
    },
    {
      "cell_type": "code",
      "source": [
        "str1=input()\n",
        "if (\"A\" in str1 and \"AB\" in str1 and \"ABB\" in str1):\n",
        "    print(1)\n",
        "else:\n",
        "    print(0)"
      ],
      "metadata": {
        "id": "z4cH6xq1QOqW"
      },
      "execution_count": null,
      "outputs": []
    },
    {
      "cell_type": "markdown",
      "source": [
        "83.Remove characters exist more than one time"
      ],
      "metadata": {
        "id": "aDt4dM7xQRzt"
      }
    },
    {
      "cell_type": "code",
      "source": [
        "str1 = input()\n",
        "append_list = []\n",
        "for i in str1:\n",
        "    count = str1.count(i)\n",
        "    if count == 1:\n",
        "        append_list.append(i)\n",
        "for i in append_list:\n",
        "    print(i, end = \"\")"
      ],
      "metadata": {
        "id": "j_3HiE8cQRaM"
      },
      "execution_count": null,
      "outputs": []
    },
    {
      "cell_type": "markdown",
      "source": [
        "84.Remove extra characters in a string"
      ],
      "metadata": {
        "id": "MvdPEYbQQh1I"
      }
    },
    {
      "cell_type": "code",
      "source": [
        "test_str = input()\n",
        "# using split() + join()\n",
        "# remove additional space from string \n",
        "res = \" \".join(test_str.split())\n",
        "print(str(res))\n"
      ],
      "metadata": {
        "id": "wgPZDTI4Qr2l"
      },
      "execution_count": null,
      "outputs": []
    },
    {
      "cell_type": "markdown",
      "source": [
        "85. print longest common string"
      ],
      "metadata": {
        "id": "JxUcaQqhQt67"
      }
    },
    {
      "cell_type": "code",
      "source": [
        "\n",
        "str1,str2=map(str,input().split())\n",
        "if str2 in str1:\n",
        "    print(str2)\n",
        "else:\n",
        "    print(-1)"
      ],
      "metadata": {
        "id": "zIZQdmyyQto8"
      },
      "execution_count": null,
      "outputs": []
    },
    {
      "cell_type": "markdown",
      "source": [
        "86.reverse the order of two words"
      ],
      "metadata": {
        "id": "DM3x5yGIQ898"
      }
    },
    {
      "cell_type": "code",
      "source": [
        "x = input()\n",
        "#take input from user\n",
        "a=x.split( )\n",
        "#use split method to split at whitespaces\n",
        "a.reverse()\n",
        "#reverse all the elements of the string \n",
        "\n",
        "print(' '.join(a))"
      ],
      "metadata": {
        "id": "BpuX4bJ2RF_A"
      },
      "execution_count": null,
      "outputs": []
    },
    {
      "cell_type": "markdown",
      "source": [
        "87.print the maximum length of longest palindrome present in string."
      ],
      "metadata": {
        "id": "S0KSJ0KXRVRD"
      }
    },
    {
      "cell_type": "code",
      "source": [
        "str =  input()\n",
        "str = str[:-1]\n",
        "print(len(str))"
      ],
      "metadata": {
        "id": "5Zf5HGO_Rccn"
      },
      "execution_count": null,
      "outputs": []
    },
    {
      "cell_type": "markdown",
      "source": [
        "88. whether the given string is a palindrome using stack or linked list and print 'yes' otherwise print 'no'."
      ],
      "metadata": {
        "id": "ofyzNo4PRfY-"
      }
    },
    {
      "cell_type": "code",
      "source": [
        "\n",
        "class Stack:\n",
        "    def __init__(self):\n",
        "        self.items = []\n",
        " \n",
        "    def is_empty(self):\n",
        "        return self.items == []\n",
        " \n",
        "    def push(self, data):\n",
        "        self.items.append(data)\n",
        " \n",
        "    def pop(self):\n",
        "        return self.items.pop()\n",
        " \n",
        " \n",
        "s = Stack()\n",
        "text = input( )\n",
        " \n",
        "for character in text:\n",
        "    s.push(character)\n",
        " \n",
        "reversed_text = ''\n",
        "while not s.is_empty():\n",
        "    reversed_text = reversed_text + s.pop()\n",
        " \n",
        "if text == reversed_text:\n",
        "    print('yes')\n",
        "else:\n",
        "    print('no')"
      ],
      "metadata": {
        "id": "xa5ZsvRNRnuh"
      },
      "execution_count": null,
      "outputs": []
    },
    {
      "cell_type": "markdown",
      "source": [
        "89.print the vowels first and then consonants in the same order"
      ],
      "metadata": {
        "id": "G_Ar0qmiRriW"
      }
    },
    {
      "cell_type": "code",
      "source": [
        "s = str(input())\n",
        "vowel = ['a','e','i','o','u','A','E','I','O','U']\n",
        "v = []\n",
        "c = []\n",
        "l=[]\n",
        "for i in s:\n",
        "    if i in vowel:\n",
        "    \tv.append(i)\n",
        "    else:\n",
        "    \tc.append(i)\n",
        "for i in v:\n",
        "    l.append(i)\n",
        "for i in c:\n",
        "    l.append(i)\n",
        "print(\"\".join(l))"
      ],
      "metadata": {
        "id": "A3pTBSUuRw7B"
      },
      "execution_count": null,
      "outputs": []
    },
    {
      "cell_type": "markdown",
      "source": [
        "90.convert each characters of the string into ASCII values and print the sum of the numbers."
      ],
      "metadata": {
        "id": "sgIoR41SRzpT"
      }
    },
    {
      "cell_type": "code",
      "source": [
        "n=input()\n",
        "add=0\n",
        "for i in n:\n",
        "    add+=ord(i)\n",
        "print(add)    "
      ],
      "metadata": {
        "id": "Z5beAzD6R-gY"
      },
      "execution_count": null,
      "outputs": []
    },
    {
      "cell_type": "markdown",
      "source": [
        "91.print all permutations of the string in a separate line."
      ],
      "metadata": {
        "id": "uZ7WnrQASA3L"
      }
    },
    {
      "cell_type": "code",
      "source": [
        "import itertools\n",
        "a_string = input()\n",
        "string_permutations = itertools.permutations(a_string)\n",
        "string_permutations = list(string_permutations)\n",
        "string_permutations = [''.join(permutation)for permutation in string_permutations]\n",
        "for l in string_permutations:\n",
        "    print(l)"
      ],
      "metadata": {
        "id": "OYclem7zSHGC"
      },
      "execution_count": null,
      "outputs": []
    },
    {
      "cell_type": "markdown",
      "source": [
        "92.check whether any part of string A"
      ],
      "metadata": {
        "id": "WXpn34uSSJGp"
      }
    },
    {
      "cell_type": "code",
      "source": [
        "A,B=map(str,input().split())\n",
        "if B in A:\n",
        "    print(\"yes\")\n",
        "else:\n",
        "    print(\"no\")"
      ],
      "metadata": {
        "id": "eT6vuDueSUPR"
      },
      "execution_count": null,
      "outputs": []
    },
    {
      "cell_type": "markdown",
      "source": [
        "93."
      ],
      "metadata": {
        "id": "M91inNsBSWKQ"
      }
    }
  ]
}