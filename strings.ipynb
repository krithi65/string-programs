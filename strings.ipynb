{
  "nbformat": 4,
  "nbformat_minor": 0,
  "metadata": {
    "colab": {
      "name": "strings.ipynb",
      "provenance": [],
      "authorship_tag": "ABX9TyMkYQrIAF0y2a78h+uPa4eR",
      "include_colab_link": true
    },
    "kernelspec": {
      "name": "python3",
      "display_name": "Python 3"
    },
    "language_info": {
      "name": "python"
    }
  },
  "cells": [
    {
      "cell_type": "markdown",
      "metadata": {
        "id": "view-in-github",
        "colab_type": "text"
      },
      "source": [
        "<a href=\"https://colab.research.google.com/github/krithi65/string-programs/blob/main/strings.ipynb\" target=\"_parent\"><img src=\"https://colab.research.google.com/assets/colab-badge.svg\" alt=\"Open In Colab\"/></a>"
      ]
    },
    {
      "cell_type": "markdown",
      "source": [
        "51. binary number convert it into octal format."
      ],
      "metadata": {
        "id": "JEHdvyk9GYuH"
      }
    },
    {
      "cell_type": "code",
      "source": [
        "n=input()\n",
        "print(oct(int(n, 2))[2:])"
      ],
      "metadata": {
        "id": "238Yxd2tGge2"
      },
      "execution_count": null,
      "outputs": []
    },
    {
      "cell_type": "markdown",
      "source": [
        "52.find the quad ret (x1,x2,x3,x4) which will result the sum in 1."
      ],
      "metadata": {
        "id": "3wKKGW3pGjWF"
      }
    },
    {
      "cell_type": "code",
      "source": [
        "n=input()\n",
        "quadret=list(map(int,input().split()))\n",
        "sum=0\n",
        "for i in quadret:\n",
        "    sum=sum+i\n",
        "if sum==1:\n",
        "    print(\"Yes\")\n",
        "else:\n",
        "    print(\"No\")"
      ],
      "metadata": {
        "id": "OLiDvzlAGr9G"
      },
      "execution_count": null,
      "outputs": []
    },
    {
      "cell_type": "markdown",
      "source": [
        "53.find how many times 'K' got repeated in 'S'.If 'K' is not found in 'S' print -1"
      ],
      "metadata": {
        "id": "QZUYyLnbGu3o"
      }
    },
    {
      "cell_type": "code",
      "source": [
        "def odd():\n",
        " for i in n:\n",
        "  if i in k:\n",
        "    return True\n",
        " return False\n",
        "n,k=map(str,input().split())\n",
        "\n",
        "if(odd()==True):\n",
        "  counter = n.count(k)  \n",
        "  print(counter)\n",
        "else:\n",
        "  print(-1)    "
      ],
      "metadata": {
        "id": "sbcBfmCoG55Z"
      },
      "execution_count": null,
      "outputs": []
    },
    {
      "cell_type": "markdown",
      "source": [
        "54.print its corresponding camelcase convention."
      ],
      "metadata": {
        "id": "QlWnTn0bG8tq"
      }
    },
    {
      "cell_type": "code",
      "source": [
        "sample_text = input()\n",
        "# Capitalize the first letter of each word i.e.\n",
        "# Convert the first letter of each word to Upper case and all other to lower case\n",
        "result = sample_text.title()\n",
        "string=result.replace(\" \",\"\")\n",
        "print(string)"
      ],
      "metadata": {
        "id": "CY3gqfNtHIez"
      },
      "execution_count": null,
      "outputs": []
    },
    {
      "cell_type": "markdown",
      "source": [
        "55. print the sum of the squares of its digits."
      ],
      "metadata": {
        "id": "QCBFmBY6HKw-"
      }
    },
    {
      "cell_type": "code",
      "source": [
        "num = int(input())\n",
        "sum = 0\n",
        "while num!=0:\n",
        "    rem = num%10\n",
        "    sqr = rem*rem\n",
        "    sum = sum+sqr\n",
        "    num = int(num/10)\n",
        "print(sum)"
      ],
      "metadata": {
        "id": "Uo2Fe9uDHPtO"
      },
      "execution_count": null,
      "outputs": []
    },
    {
      "cell_type": "markdown",
      "source": [
        "56.print 'yes' if it is balanced otherwise print 'no'."
      ],
      "metadata": {
        "id": "wfKSDoT9HR4W"
      }
    },
    {
      "cell_type": "code",
      "source": [
        "def isbalanced(s):\n",
        "  c= 0\n",
        "  ans=False\n",
        "  for i in s:\n",
        "    if i == \"(\": \n",
        "     c += 1\n",
        "    elif i == \")\":\n",
        "     c-= 1\n",
        "    if c < 0:\n",
        "     return True\n",
        "    if c==0:\n",
        "     return not ans\n",
        "  return False\n",
        "s=input()\n",
        "if isbalanced(s)==True:\n",
        "    print(\"yes\")\n",
        "else:\n",
        "    print(\"no\")"
      ],
      "metadata": {
        "id": "H8bVNFCGHWwL"
      },
      "execution_count": null,
      "outputs": []
    },
    {
      "cell_type": "markdown",
      "source": [
        "57. print the sum of its first and last digit.\n",
        "Input Size : |N| <= 10000\n",
        "Sample Testcase :\n",
        "INPUT\n",
        "51233\n",
        "OUTPUT\n",
        "8"
      ],
      "metadata": {
        "id": "_zGTvjqjHbfr"
      }
    },
    {
      "cell_type": "code",
      "source": [
        "n = int(input())\n",
        "number = str(n)\n",
        "first = int(number[0])\n",
        "last = int(number[-1])\n",
        "sum=first+last\n",
        "print(sum)"
      ],
      "metadata": {
        "id": "Lw_JfPxRHh-a"
      },
      "execution_count": null,
      "outputs": []
    },
    {
      "cell_type": "markdown",
      "source": [
        "58.print 'yes' if the strings 'GUVI' and 'GEEK' is present case-sensitively in the string else print 'no'."
      ],
      "metadata": {
        "id": "z5BPp71YHkiz"
      }
    },
    {
      "cell_type": "code",
      "source": [
        "string=input()\n",
        "a=string.isupper()\n",
        "if(a==True):\n",
        "    print(\"yes\")\n",
        "else:\n",
        "  print(\"no\")"
      ],
      "metadata": {
        "id": "mKOvTlV1HqnP"
      },
      "execution_count": null,
      "outputs": []
    },
    {
      "cell_type": "markdown",
      "source": [
        "59.a binary number convert it to hexadecimal.\n",
        "\n"
      ],
      "metadata": {
        "id": "XtWDD3WGHttu"
      }
    },
    {
      "cell_type": "code",
      "source": [
        "a=input()\n",
        "b=hex(int(a, 2))\n",
        "print(b[2:])"
      ],
      "metadata": {
        "id": "6XybctD0HzWR"
      },
      "execution_count": null,
      "outputs": []
    },
    {
      "cell_type": "markdown",
      "source": [
        "60. find if it is of date format 'dd/mm/yyyy'."
      ],
      "metadata": {
        "id": "Aohj25ieJ-f8"
      }
    },
    {
      "cell_type": "code",
      "source": [
        "from datetime import datetime\n",
        "test_str =input()\n",
        "format = \"%d/%m/%Y\"\n",
        "try:\n",
        "\tres = bool(datetime.strptime(test_str, format))\n",
        "except ValueError:\n",
        "\tres = False\n",
        "if(res==True):\n",
        "    print(\"yes\")\n",
        "else:\n",
        "    print(\"no\")\n"
      ],
      "metadata": {
        "id": "9vew-d53KEia"
      },
      "execution_count": null,
      "outputs": []
    },
    {
      "cell_type": "markdown",
      "source": [
        "61.find the lexicographically smallest string."
      ],
      "metadata": {
        "id": "p1pFoSWHKHU3"
      }
    },
    {
      "cell_type": "code",
      "source": [
        "n = int(input())\n",
        "l = []\n",
        "for i in range(n):\n",
        "    l.append(str(input()))\n",
        "l.sort()\n",
        "print(l[0])"
      ],
      "metadata": {
        "id": "XkuPXyGeKPTm"
      },
      "execution_count": null,
      "outputs": []
    },
    {
      "cell_type": "markdown",
      "source": [
        "62.print the prefix sum array."
      ],
      "metadata": {
        "id": "dw07G1IQKRjd"
      }
    },
    {
      "cell_type": "code",
      "source": [
        "n=int(input())\n",
        "arr=[int(x)for x in input().split()]\n",
        "sum=0\n",
        "l=[]\n",
        "for i in range(n):\n",
        "    sum+=arr[i]\n",
        "    l.append(sum)\n",
        "print(*l)"
      ],
      "metadata": {
        "id": "sXKCTwFxKZCC"
      },
      "execution_count": null,
      "outputs": []
    },
    {
      "cell_type": "markdown",
      "source": [
        "63.Find the word having maximum length in a given sentence and print it. \n",
        "\n"
      ],
      "metadata": {
        "id": "XiQxLcdaKj0F"
      }
    },
    {
      "cell_type": "code",
      "source": [
        "s1,s2=map(str,input().split())\n",
        "if (len(s1)==len(s2)):\n",
        "    print(s1)\n",
        "else:\n",
        "    print(s2)"
      ],
      "metadata": {
        "id": "3ljqiRbXKchP"
      },
      "execution_count": null,
      "outputs": []
    },
    {
      "cell_type": "markdown",
      "source": [
        "64.print the month in words."
      ],
      "metadata": {
        "id": "MlI-w0fqKrx4"
      }
    },
    {
      "cell_type": "code",
      "source": [
        "import datetime\n",
        "date = input()\n",
        "datem = datetime.datetime.strptime(date, \"%d-%m-%Y\")     \n",
        "print(datem.strftime(\"%B\"))      "
      ],
      "metadata": {
        "id": "X9lrlCbjKxR4"
      },
      "execution_count": null,
      "outputs": []
    },
    {
      "cell_type": "markdown",
      "source": [
        "65.print the suffix sum of the array"
      ],
      "metadata": {
        "id": "erjKHkT9K0dv"
      }
    },
    {
      "cell_type": "code",
      "source": [
        "n=int(input())\n",
        "arr=[int(x)for x in input().split()]\n",
        "l=[]\n",
        "for i in range(n):\n",
        "    sum=0\n",
        "    for j in range(i,n):\n",
        "       sum+=arr[j]\n",
        "    l.append(sum)\n",
        "print(*l)"
      ],
      "metadata": {
        "id": "C7mhQgmXK_OK"
      },
      "execution_count": null,
      "outputs": []
    },
    {
      "cell_type": "markdown",
      "source": [
        "66.Let P represent Paper, R represent Rock and S represent Scissors. Given 2 out of the 3 determine which one wins. If its a draw print 'D'.\n",
        "Sample Testcase :\n",
        "INPUT\n",
        "R P\n",
        "OUTPUT\n",
        "P"
      ],
      "metadata": {
        "id": "cCqjvY88LBDZ"
      }
    },
    {
      "cell_type": "code",
      "source": [
        "R,P=map(str,input( ).split( ))\n",
        "R=2\n",
        "P=2\n",
        "if(R==R and P==P ):\n",
        "  print(\"D\")\n",
        "else:\n",
        "    print(\"R\")"
      ],
      "metadata": {
        "id": "wvlK0LxwLGXE"
      },
      "execution_count": null,
      "outputs": []
    },
    {
      "cell_type": "markdown",
      "source": [
        "67.change upper case to lowercase and lowercase to uppercase"
      ],
      "metadata": {
        "id": "L1MHGr6pLWh1"
      }
    },
    {
      "cell_type": "code",
      "source": [
        "s=input()\n",
        "swapped_string=\"\"\n",
        "swapped_string+=s.swapcase()\n",
        "print(swapped_string)"
      ],
      "metadata": {
        "id": "nT41XgUOLWLc"
      },
      "execution_count": null,
      "outputs": []
    },
    {
      "cell_type": "markdown",
      "source": [
        "68.Print 1 if they are anagram else print 0."
      ],
      "metadata": {
        "id": "f4l_HsE-M7uL"
      }
    },
    {
      "cell_type": "code",
      "source": [
        "s1=input()\n",
        "s2=input()\n",
        "if sorted(s1)==sorted(s2):\n",
        "    print(1)\n",
        "else:\n",
        "    print(0)"
      ],
      "metadata": {
        "id": "298lpQRbNJyP"
      },
      "execution_count": null,
      "outputs": []
    },
    {
      "cell_type": "markdown",
      "source": [
        "69.display 'yes' if given two strings are complementary otherwise display 'no'."
      ],
      "metadata": {
        "id": "c5ATRNbgNMMe"
      }
    },
    {
      "cell_type": "code",
      "source": [
        "s1=input()\n",
        "s2=input()\n",
        "g=s1+s2\n",
        "if(len(g)==26):\n",
        "    print(\"yes\")\n",
        "else:\n",
        "    print(\"no\")"
      ],
      "metadata": {
        "id": "c0almrnRNTdw"
      },
      "execution_count": null,
      "outputs": []
    },
    {
      "cell_type": "markdown",
      "source": [
        "70.Print 'yes' if their lengths are co-prime otherwise print 'no'."
      ],
      "metadata": {
        "id": "u0PVeyU6NWJu"
      }
    },
    {
      "cell_type": "code",
      "source": [
        "import math\n",
        "a,b=map(str,input().split())\n",
        "c=len(a)\n",
        "d=len(b)\n",
        "e=math.gcd(c,d)\n",
        "if(e==1):\n",
        "  print(\"yes\")  \n",
        "else:\n",
        "  print(\"no\")    \n",
        "  "
      ],
      "metadata": {
        "id": "cyZfGNfENzkL"
      },
      "execution_count": null,
      "outputs": []
    }
  ]
}